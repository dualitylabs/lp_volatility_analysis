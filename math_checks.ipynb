{
 "cells": [
  {
   "cell_type": "code",
   "execution_count": 4,
   "metadata": {},
   "outputs": [],
   "source": [
    "from lp_math import *"
   ]
  },
  {
   "cell_type": "code",
   "execution_count": 5,
   "metadata": {},
   "outputs": [],
   "source": [
    "def check_math(k, gamma, p_0, p_1, epsilon=0.00000000001):\n",
    "    validate_params(k, gamma, p_0, p_1)\n",
    "\n",
    "    r_a, r_b = calc_reserves(k, p_0)\n",
    "    delta_alpha = calc_delta_alpha(k, gamma, p_0, p_1)\n",
    "    delta_beta = calc_delta_beta(k, gamma, p_0, delta_alpha)\n",
    "    price = calc_updated_price(r_a, r_b, delta_alpha, delta_beta)\n",
    "\n",
    "    print('price: ', price)\n",
    "    print('p1: ', p_1)\n",
    "\n",
    "\n",
    "    rootk_growth = calc_rootk_growth(gamma, p_0, p_1)\n",
    " \n",
    "    new_k = calc_updated_k(r_a, r_b, delta_alpha, delta_beta)\n",
    "    actual_rootk_growth = math.sqrt(new_k/k)\n",
    "\n",
    "    print('rootk_growth: ', rootk_growth)\n",
    "    print('actual_rootk_growth: ', actual_rootk_growth)\n",
    "\n",
    "\n",
    "    price_within = abs(p_1 - price)/p_1 < epsilon\n",
    "    growth_within = abs(actual_rootk_growth - rootk_growth)/actual_rootk_growth < epsilon\n",
    "\n",
    "    return price_within and growth_within"
   ]
  },
  {
   "cell_type": "code",
   "execution_count": 6,
   "metadata": {},
   "outputs": [
    {
     "name": "stdout",
     "output_type": "stream",
     "text": [
      "price:  90.0\n",
      "p1:  90.0\n",
      "rootk_growth:  1.000077093664909\n",
      "actual_rootk_growth:  1.000077093664909\n",
      "Price Lowers\n",
      "correct:  True\n",
      "\n",
      "price:  0.01\n",
      "p1:  0.01\n",
      "rootk_growth:  1.000077093664909\n",
      "actual_rootk_growth:  1.000077093664909\n",
      "Price Increases\n",
      "correct:  True\n"
     ]
    }
   ],
   "source": [
    "# test params\n",
    "k = mpf(10000)\n",
    "p_0 = mpf(100)\n",
    "p_1 = mpf(90)\n",
    "gamma = mpf(0.997)\n",
    "\n",
    "correct = check_math(k, gamma, p_0, p_1)\n",
    "print('Price Lowers')\n",
    "print('correct: ', correct)\n",
    "print('')\n",
    "\n",
    "k = mpf(10000)\n",
    "p_0 = mpf(90)\n",
    "p_1 = mpf(100)\n",
    "gamma = mpf(0.997)\n",
    "\n",
    "# just pass in reciprocal prices when moving from beta to alpha \n",
    "# (basically just swapping alpha and beta names for the purposes of calculation)\n",
    "correct = check_math(k, gamma, 1/p_0, 1/p_1)\n",
    "print('Price Increases')\n",
    "print('correct: ', correct)"
   ]
  },
  {
   "cell_type": "code",
   "execution_count": null,
   "metadata": {},
   "outputs": [],
   "source": []
  }
 ],
 "metadata": {
  "interpreter": {
   "hash": "5207fbe66f1904d55bd104c8ff350410b9c2427d55702be0c3b36a4a925c18ac"
  },
  "kernelspec": {
   "display_name": "Python 3.9.7 64-bit ('base': conda)",
   "language": "python",
   "name": "python3"
  },
  "language_info": {
   "codemirror_mode": {
    "name": "ipython",
    "version": 3
   },
   "file_extension": ".py",
   "mimetype": "text/x-python",
   "name": "python",
   "nbconvert_exporter": "python",
   "pygments_lexer": "ipython3",
   "version": "3.9.7"
  },
  "orig_nbformat": 4
 },
 "nbformat": 4,
 "nbformat_minor": 2
}
